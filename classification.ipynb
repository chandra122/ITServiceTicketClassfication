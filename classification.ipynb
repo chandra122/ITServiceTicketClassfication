{
 "cells": [
  {
   "cell_type": "code",
   "execution_count": null,
   "id": "5a3952b4",
   "metadata": {
    "vscode": {
     "languageId": "plaintext"
    }
   },
   "outputs": [],
   "source": [
    "import pandas as pd\n",
    "import numpy as np\n",
    "from sklearn.model_selection import StratifiedKFold, cross_val_score\n",
    "from sklearn.feature_extraction.text import TfidfVectorizer\n",
    "from sklearn.linear_model import LogisticRegression\n",
    "from sklearn.ensemble import RandomForestClassifier\n",
    "from sklearn.pipeline import make_pipeline\n",
    "from sklearn.metrics import accuracy_score\n",
    "import warnings"
   ]
  },
  {
   "cell_type": "code",
   "execution_count": null,
   "id": "077784e0",
   "metadata": {
    "vscode": {
     "languageId": "plaintext"
    }
   },
   "outputs": [],
   "source": [
    "# Suppress warnings for cleaner output\n",
    "warnings.filterwarnings('ignore')"
   ]
  },
  {
   "cell_type": "code",
   "execution_count": null,
   "id": "621cf46f",
   "metadata": {
    "vscode": {
     "languageId": "plaintext"
    }
   },
   "outputs": [],
   "source": [
    "# Let's try to load the dataset\n",
    "try:\n",
    "    classification_data = pd.read_csv(\"all_tickets_processed_improved_v3.csv\")\n",
    "    classification_data = classification_data.sample(n = 1000, random_state=42).reset_index(drop=True)\n",
    "except FileNotFoundError:\n",
    "        print(\"Please download the 'IT Service Ticket Classification Dataset' from Kaggle.\")\n",
    "    print(\"Link: https://www.kaggle.com/datasets/adisongoh/it-service-ticket-classification-dataset\")\n",
    "    exit()\n",
    "\n",
    "X = data['Document']\n",
    "y = data['Topic_group']\n"
   ]
  }
 ],
 "metadata": {
  "language_info": {
   "name": "python"
  }
 },
 "nbformat": 4,
 "nbformat_minor": 5
}
